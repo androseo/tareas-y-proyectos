{
 "cells": [
  {
   "cell_type": "code",
   "execution_count": 12,
   "id": "12b4d956",
   "metadata": {},
   "outputs": [
    {
     "name": "stdout",
     "output_type": "stream",
     "text": [
      "ABCDEFGHIJKLMNOPQRSTUVWXYZ0123456789\n",
      "YX15KT6B7PHIFE\n"
     ]
    }
   ],
   "source": [
    "import random\n",
    "import string\n",
    "\n",
    "valido = {}\n",
    "invalido =[]\n",
    "dictio = dict()\n",
    "code_str=\"\"\n",
    "code_str += string.ascii_uppercase + string.digits\n",
    "print(code_str)\n",
    "\n",
    "def gen_code(len=14):\n",
    "         \n",
    "    return ''.join(random.sample(code_str,14))\n",
    "\n",
    "print(gen_code())\n",
    "\n",
    "def contraseña():\n",
    "  gen_code\n",
    "  k = \"\".join(code_str)\n",
    "\n",
    "  a = k\n",
    "  sum=0\n",
    "  for x in a:\n",
    "   if x.isdigit():\n",
    "    sum = sum+int(x)\n",
    "  if sum < 30:\n",
    "    invalido.append(k)\n",
    "  elif sum >= 30:\n",
    "    dictio[sum]=k\n",
    "  \n",
    "def programa():\n",
    "  codnuevo=input('Para genera su nuevo código presiones \"enter\", para finalizar escriba la palabra \"exit\": ' )\n",
    "\n",
    "  while codnuevo == '':\n",
    "    code_str.lower() \n",
    "    if code_str.lower() == '':\n",
    "      contraseña()\n",
    "      code_str=input('Para genera su nuevo código presiones \"enter\", para finalizar escriba la palabra \"exit\": ' )\n",
    "    if code_str == 'exit':\n",
    "        print(dictio)\n",
    "        print(invalido)\n",
    "    elif code_str == 'Exit':\n",
    "        print(dictio)\n",
    "        print(invalido)\n",
    "    elif code_str == 'EXit':\n",
    "        print(dictio)\n",
    "        print(invalido)\n",
    "    elif code_str == 'EXIt':\n",
    "        print(dictio)\n",
    "        print(invalido)\n",
    "    elif code_str == 'eXit':\n",
    "        print(dictio)\n",
    "        print(invalido)\n",
    "    elif code_str == 'EXIT':\n",
    "        print(dictio)\n",
    "        print(invalido)\n",
    "    elif code_str == 'eXIT':\n",
    "        print(dictio)\n",
    "        print(invalido)\n",
    "    elif code_str == 'eXIt':\n",
    "        print(dictio)\n",
    "        print(invalido)\n",
    "    elif code_str == 'exIt':\n",
    "        print(dictio.string.digits)\n",
    "        print(invalido.string.ascii_uppercase)"
   ]
  },
  {
   "cell_type": "code",
   "execution_count": null,
   "id": "1360b2af",
   "metadata": {},
   "outputs": [],
   "source": [
    "programa ()"
   ]
  },
  {
   "cell_type": "code",
   "execution_count": null,
   "id": "9f5f767c",
   "metadata": {},
   "outputs": [],
   "source": []
  }
 ],
 "metadata": {
  "kernelspec": {
   "display_name": "Python 3 (ipykernel)",
   "language": "python",
   "name": "python3"
  },
  "language_info": {
   "codemirror_mode": {
    "name": "ipython",
    "version": 3
   },
   "file_extension": ".py",
   "mimetype": "text/x-python",
   "name": "python",
   "nbconvert_exporter": "python",
   "pygments_lexer": "ipython3",
   "version": "3.9.7"
  }
 },
 "nbformat": 4,
 "nbformat_minor": 5
}
