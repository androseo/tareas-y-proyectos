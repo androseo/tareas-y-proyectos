{
 "cells": [
  {
   "cell_type": "markdown",
   "id": "81b80c81",
   "metadata": {},
   "source": [
    "1. Cree un procedimiento en Python dado un n´umero entero en decimal despliegue su representaci´on en n´umero binario."
   ]
  },
  {
   "cell_type": "code",
   "execution_count": 4,
   "id": "71572004",
   "metadata": {},
   "outputs": [
    {
     "data": {
      "text/plain": [
       "'0b1010001'"
      ]
     },
     "execution_count": 4,
     "metadata": {},
     "output_type": "execute_result"
    }
   ],
   "source": [
    ">>> bin(81)\n"
   ]
  },
  {
   "cell_type": "code",
   "execution_count": 13,
   "id": "68b92ac9",
   "metadata": {},
   "outputs": [
    {
     "name": "stdout",
     "output_type": "stream",
     "text": [
      "Ingresar número para convertir a binario: 81\n",
      "1010001\n"
     ]
    }
   ],
   "source": [
    "def binarizar(decimal):\n",
    "    binario = ''\n",
    "    while decimal // 2 != 0:\n",
    "        binario = str(decimal % 2) + binario\n",
    "        decimal = decimal // 2\n",
    "    return str(decimal) + binario\n",
    "\n",
    "numero = int(input('Ingresar número para convertir a binario: '))\n",
    "print(binarizar(numero))"
   ]
  },
  {
   "cell_type": "markdown",
   "id": "7b1d0a54",
   "metadata": {},
   "source": [
    "2. Desarrolle en Python una funci´on que devuelva verdadero si un n´umero entero que recibe como par´ametro es primo y devuelva falso en el caso contrario."
   ]
  },
  {
   "cell_type": "code",
   "execution_count": 25,
   "id": "65b84f38",
   "metadata": {},
   "outputs": [
    {
     "name": "stdout",
     "output_type": "stream",
     "text": [
      "Ingrese un número: 2\n",
      "El número ingresado es primo, VERDADERO\n"
     ]
    }
   ],
   "source": [
    "def isPrime(num):\n",
    "    if num < 1:\n",
    "        return False\n",
    "    elif num == 2:\n",
    "        return True\n",
    "    else:\n",
    "        for i in range(2, num):\n",
    "            if num % i == 0:\n",
    "                return False\n",
    "        return True            \n",
    "\n",
    "def app():\n",
    "    num = int(input('Ingrese un número: '))\n",
    "    result = isPrime(num)\n",
    "\n",
    "    if result is True:\n",
    "        print('El número ingresado es primo, VERDADERO')\n",
    "    else:\n",
    "        print('El número ingresado no es primo, FALSO')\n",
    "\n",
    "if __name__ == '__main__':\n",
    "    app()"
   ]
  },
  {
   "cell_type": "markdown",
   "id": "78f241c2",
   "metadata": {},
   "source": [
    "3. Haga un programa en Python que dada una lista de n n´umeros, calcule la desviaci´on est´andar del conjunto de n´umeros, para este ejercicio no puede utilizar ninguna funci´on que resuelva el problema. "
   ]
  },
  {
   "cell_type": "code",
   "execution_count": 5,
   "id": "52825980",
   "metadata": {},
   "outputs": [
    {
     "name": "stdout",
     "output_type": "stream",
     "text": [
      "Lista: [11, 25, 356, 41, 6, 2, 59, 1335, 412]\n",
      "La Desv. S de la lista es: 411.45433120416493\n"
     ]
    }
   ],
   "source": [
    "import numpy as np\n",
    "\n",
    "list = [11, 25, 356, 41, 6, 2, 59, 1335, 412]\n",
    "print(\"Lista: \" + str(list))\n",
    "\n",
    "st_dev = np.std(list)\n",
    "\n",
    "print(\"La Desv. S de la lista es: \" + str(st_dev))"
   ]
  },
  {
   "cell_type": "code",
   "execution_count": 6,
   "id": "869ab6ff",
   "metadata": {},
   "outputs": [
    {
     "name": "stdout",
     "output_type": "stream",
     "text": [
      "Lista: [11, 25, 356, 41, 6, 2, 59, 1335, 412]\n",
      "La DS de la lista es: 411.45433120416493\n"
     ]
    }
   ],
   "source": [
    "import math\n",
    "\n",
    "list = [11, 25, 356, 41, 6, 2, 59, 1335, 412]\n",
    "print(\"Lista: \" + str(list))\n",
    "\n",
    "mean = sum(list) / len(list)\n",
    "var = sum((l-mean)**2 for l in list) / len(list)\n",
    "st_dev = math.sqrt(var)\n",
    "\n",
    "print(\"La DS de la lista es: \" + str(st_dev))"
   ]
  },
  {
   "cell_type": "markdown",
   "id": "800b05b6",
   "metadata": {},
   "source": [
    "4. Desarrolle en Python una funci´on que dado un arreglo de corra el algoritmo de ordenamiento burbuja y devuelva un nuevo arreglo ordenado. Posteriormente cree una funci´on main para probar su funci´on. "
   ]
  },
  {
   "cell_type": "code",
   "execution_count": 35,
   "id": "6024b699",
   "metadata": {},
   "outputs": [
    {
     "name": "stdout",
     "output_type": "stream",
     "text": [
      "Desordenado: \n",
      "[11, 25, 356, 41, 6, 2, 59, 1335, 412]\n",
      "Ordenado: \n",
      "[2, 6, 11, 25, 41, 59, 356, 412, 1335]\n"
     ]
    }
   ],
   "source": [
    "def bubbleSort (array):\n",
    "    length = len(array) - 1\n",
    "    for i in range (0, length):\n",
    "        for j in range (0, length):\n",
    "            if array[j] > array[ j + 1 ]:\n",
    "                aux = array[j]\n",
    "                array[j] = array[j + 1]\n",
    "                array[j + 1] = aux\n",
    "    return array\n",
    "\n",
    "numero = [11, 25, 356, 41, 6, 2, 59, 1335, 412]\n",
    "print(\"Desordenado: \")\n",
    "print(numero)\n",
    "print(\"Ordenado: \")\n",
    "print( bubbleSort(numero) )\n",
    "                \n",
    "                \n",
    "    "
   ]
  },
  {
   "cell_type": "markdown",
   "id": "1ec73f20",
   "metadata": {},
   "source": [
    "5. Escriba una funci´on en Python que dada una tupla de elementos (numeros o letras) esta se convierta a un string. Tomar nota del siguiente ejemplo: Si la entrada fuera: (10, 20, 40, 5, 70) La salida deber´ıa ser: 102040570 "
   ]
  },
  {
   "cell_type": "code",
   "execution_count": 36,
   "id": "02dd1fae",
   "metadata": {},
   "outputs": [
    {
     "name": "stdout",
     "output_type": "stream",
     "text": [
      "102040570\n"
     ]
    }
   ],
   "source": [
    "tup1 = ('10','20','40','5','70')\n",
    "str = ''.join(tup1)\n",
    "print (str)"
   ]
  },
  {
   "cell_type": "markdown",
   "id": "a8d06273",
   "metadata": {},
   "source": [
    "6. Cree un programa en Python que dada una lista de tuplas, elimine las tuplas que est´an vac´ıas. Tomar nota del siguiente ejemplo: Si la lista fuera: [(), (), (’X’,), (’a’, ’b’), (’a’, ’b’, ’c’), (’d’)] El resultado deber´ıa ser: [(’X’), (’a’, ’b’), (’a’, ’b’, ’c’), ’d’] "
   ]
  },
  {
   "cell_type": "code",
   "execution_count": 55,
   "id": "91f89af2",
   "metadata": {},
   "outputs": [
    {
     "name": "stdout",
     "output_type": "stream",
     "text": [
      "[(), (), ('X',), ('a', 'b'), ('a', 'b', 'c'), 'd']\n",
      "6\n",
      "\n",
      "[('X',), ('a', 'b'), ('a', 'b', 'c'), 'd']\n",
      "4\n"
     ]
    }
   ],
   "source": [
    "tup2 = [(), (), ('X',), ('a', 'b'), ('a', 'b', 'c'), ('d')]\n",
    "\n",
    "print(tup2)\n",
    "print(len(tup2))\n",
    "\n",
    "print ()\n",
    "tup2 = [t for t in tup2 if t]\n",
    "\n",
    "print(tup2)\n",
    "print(len(tup2))\n",
    "\n"
   ]
  },
  {
   "cell_type": "markdown",
   "id": "e695e27b",
   "metadata": {},
   "source": [
    "7. Cree una funci´on en Python que dada una tupla de tuplas con numeros, produzca una tupla con el promedio de cada tupla individual. Tomar nota del siguiente ejemplo: Si la tupla de entrada fuera: ((10, 10, 10, 12), (30, 45, 56, 45), (81, 80, 39, 32)) El resultado deber´ıa ser: (10.5, 44, 58)"
   ]
  },
  {
   "cell_type": "code",
   "execution_count": 3,
   "id": "bb799c07",
   "metadata": {},
   "outputs": [
    {
     "data": {
      "text/plain": [
       "(10.5, 44.0, 58.0)"
      ]
     },
     "execution_count": 3,
     "metadata": {},
     "output_type": "execute_result"
    }
   ],
   "source": [
    "tup3 = ((10, 10, 10, 12), (30, 45, 56, 45), (81, 80, 39, 32))\n",
    "lista = []\n",
    "for valor in tup3:\n",
    "    lista.append(sum(valor)/len(valor))\n",
    "resultado = tuple(lista)\n",
    "resultado"
   ]
  },
  {
   "cell_type": "code",
   "execution_count": null,
   "id": "a0d2fb64",
   "metadata": {},
   "outputs": [],
   "source": []
  }
 ],
 "metadata": {
  "kernelspec": {
   "display_name": "Python 3 (ipykernel)",
   "language": "python",
   "name": "python3"
  },
  "language_info": {
   "codemirror_mode": {
    "name": "ipython",
    "version": 3
   },
   "file_extension": ".py",
   "mimetype": "text/x-python",
   "name": "python",
   "nbconvert_exporter": "python",
   "pygments_lexer": "ipython3",
   "version": "3.9.7"
  }
 },
 "nbformat": 4,
 "nbformat_minor": 5
}
