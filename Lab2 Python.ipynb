{
 "cells": [
  {
   "cell_type": "code",
   "execution_count": 1,
   "id": "f7f106f5",
   "metadata": {},
   "outputs": [
    {
     "name": "stdout",
     "output_type": "stream",
     "text": [
      "CONVERTIDOR DE SEGUNDOS A HORAS Y MINUTOS\n",
      "Escriba una cantidad de segundos: 465132156\n",
      "465132156 segundos son 129203 horas, 22 minutos y 36 segundos\n"
     ]
    }
   ],
   "source": [
    "def main():\n",
    "    print(\"CONVERTIDOR DE SEGUNDOS A HORAS Y MINUTOS\")\n",
    "    segundos = int(input(\"Escriba una cantidad de segundos: \"))\n",
    "\n",
    "    horas = segundos // 3600\n",
    "    minutos = segundos % 3600 // 60\n",
    "    resto = segundos % 60\n",
    "\n",
    "    print(\n",
    "        f\"{segundos} segundos son {horas} horas, {minutos} minutos y {resto} segundos\"\n",
    "    )\n",
    "\n",
    "\n",
    "if __name__ == \"__main__\":\n",
    "    main()"
   ]
  },
  {
   "cell_type": "code",
   "execution_count": null,
   "id": "08f0b28b",
   "metadata": {},
   "outputs": [],
   "source": [
    "def main():\n",
    "    print(\"CONVERTIDOR DE SEGUNDOS A HORAS Y MINUTOS\")\n",
    "    segundos = int(input(\"Escriba una cantidad de segundos: \"))\n",
    "\n",
    "    horas = segundos // 3600\n",
    "    minutos = segundos % 3600 // 60\n",
    "    resto = segundos % 60\n",
    "\n",
    "    print(\n",
    "        f\"{segundos} segundos son {horas} horas, {minutos} minutos y {resto} segundos\"\n",
    "    )\n",
    "\n",
    "\n",
    "if __name__ == \"__main__\":\n",
    "    main()"
   ]
  }
 ],
 "metadata": {
  "kernelspec": {
   "display_name": "Python 3 (ipykernel)",
   "language": "python",
   "name": "python3"
  },
  "language_info": {
   "codemirror_mode": {
    "name": "ipython",
    "version": 3
   },
   "file_extension": ".py",
   "mimetype": "text/x-python",
   "name": "python",
   "nbconvert_exporter": "python",
   "pygments_lexer": "ipython3",
   "version": "3.9.7"
  }
 },
 "nbformat": 4,
 "nbformat_minor": 5
}
