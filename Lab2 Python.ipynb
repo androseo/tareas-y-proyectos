{
 "cells": [
  {
   "cell_type": "markdown",
   "id": "49cf212d",
   "metadata": {},
   "source": [
    "Realice los ejercicios solicitados a continuación. Debe entregar un archivo *.py para cada ejercicio. \n",
    "Utilice comentarios para documentar su código e identificar la respuesta final.  \n",
    "\n",
    "\n",
    "    1) Haga un programa en Python que reciba de parámetro un número de segundos y que despliegue en pantalla, las horas, minutos y segundos que representan.   \n",
    "\n",
    "        Por ejemplo: Si el número de segundos recibidos fuera: 2743 entonces su programa debería desplegar:   \n",
    "        Horas: 0   Minutos: 45   Segundos: 43  \n",
    "        \n",
    "        \n",
    "        Si el número de segundos recibidos fuera 5871:    \n",
    "        Horas: 1   Minutos: 37   Segundos: 51  \n",
    "        Para completar su programa escriba otra regla que lea los segundos del teclado y mande a llamar la regla anterior. "
   ]
  },
  {
   "cell_type": "code",
   "execution_count": 6,
   "id": "5c0c5f52",
   "metadata": {},
   "outputs": [
    {
     "name": "stdout",
     "output_type": "stream",
     "text": [
      "Ingrese el número de segundos: 5871\n",
      "1 horas, 37 minutos y 51 segundos\n"
     ]
    }
   ],
   "source": [
    "def main():\n",
    "    i_segundos = int(input(\"Ingrese el número de segundos: \"))\n",
    "    horas = int(i_segundos/3600)\n",
    "    minutos = int((i_segundos%3600)/60)\n",
    "    segundos = int((i_segundos%216000)-(minutos*60)-(horas*3600))\n",
    "    print(f\"{horas} horas, {minutos} minutos y {segundos} segundos\")\n",
    "\n",
    "if __name__ ==\"__main__\":\n",
    "    main()"
   ]
  },
  {
   "cell_type": "markdown",
   "id": "2ca83768",
   "metadata": {},
   "source": [
    "2) Haga un programa en Python que permita el ingreso de las calificaciones de una evaluación del curso de Ciencia de Datos en Python, el programa debe desplegar un mensaje en función de la nota ingresada. \n",
    "\n",
    "Además de eso si la calificación es reprobada ósea menor a 71, se debe calcular la diferencia entre la nota de aprobación y la calificación ingresada. \n",
    "\n",
    "| Mensaje | Nota|\n",
    "| ----------- | ----------- |\n",
    "| Insuficiente | Nota < 50|\n",
    "| Regular | 50 <= nota <= 60 |\n",
    "| Bien | 60 <= nota <= 70 |\n",
    "| Muy Bien | 70 <= nota <= 90 |     \n",
    "| Sobresaliente | 90 < nota <= 100 |"
   ]
  },
  {
   "cell_type": "code",
   "execution_count": 2,
   "id": "109e32ee",
   "metadata": {},
   "outputs": [
    {
     "name": "stdout",
     "output_type": "stream",
     "text": [
      "Ingrese la nota: 58\n",
      "Regular\n",
      "13.0 Puntos faltantes\n"
     ]
    }
   ],
   "source": [
    "try: \n",
    "  nota = float(input('Ingrese la nota: '))\n",
    "  assert nota >= 0 # Validar si es verdad\n",
    "\n",
    "  if nota < 50:\n",
    "      print(\"Insuficiente\")\n",
    "      print(71-nota, \"Puntos faltantes\")\n",
    "  elif 50 <= nota and nota <= 60:\n",
    "      print(\"Regular\")\n",
    "      print(71-nota, \"Puntos faltantes\")\n",
    "  elif 60 < nota and nota <= 70:\n",
    "      print(\"Bien\")\n",
    "      print(71-nota, \"Puntos faltantes\")\n",
    "  elif 70 < nota and nota <= 90:\n",
    "      print(\"Muy Bien\")\n",
    "  elif 90 < nota and nota <= 100:\n",
    "      print(\"Sobresaliente\")\n",
    "  else:\n",
    "    print(\"Los datos ingresados no son validos. La nota debe estar entre 0 y 100\")\n",
    "\n",
    "except AssertionError :\n",
    "  print(\"No puede ingresar notas con signo negativo\")\n",
    "except Exception as ex:\n",
    "  print(\"Hubo un problema.  Solamente se pueden ingresar numeros\")"
   ]
  },
  {
   "cell_type": "markdown",
   "id": "0b080dd4",
   "metadata": {},
   "source": [
    "3) Haga un programa en Python que dados dos números ingresados por el usuario, el primero mayor que el segundo, calcular y mostrar la suma de todos los números comprendidos entre ambos.   \n",
    "\n",
    "Es importante que valide los datos según lo especificado anteriormente es decir si el usuario ingresa 1 y 100, el programa debe mostrar un error, Si los números ingresados fuesen 9 y 5, la respuesta sería 9 + 8 + 7 + 6 + 5 = 35. \n",
    "\n",
    "Utilice un ciclo for para este ejercicio. "
   ]
  },
  {
   "cell_type": "code",
   "execution_count": 29,
   "id": "e593e9c0",
   "metadata": {},
   "outputs": [
    {
     "name": "stdout",
     "output_type": "stream",
     "text": [
      "Ingrese número: 9\n",
      "Ingrese otro numero que sea menor que el anterior: 5\n",
      "35\n"
     ]
    }
   ],
   "source": [
    "num1 = int(input(\"Ingrese número: \"))\n",
    "num2 = int(input(\"Ingrese otro numero que sea menor que el anterior: \"))\n",
    "if(num2 >= num1):\n",
    "        print(\"El segundo numero debe ser menor que el primero\")\n",
    "else:\n",
    "      total=num1\n",
    "      for i in range(num2, num1):\n",
    "          total=total+i\n",
    "print(total)\n",
    "    "
   ]
  },
  {
   "cell_type": "markdown",
   "id": "97b2cad6",
   "metadata": {},
   "source": [
    "4) Haga un programa en Python que lea un número mayor que 0 y despliegue todos sus factores.   \n",
    "\n",
    "\n",
    "    Ingrese un número: 12   Factores: {1,2,3,4,6,12}  Utilice un ciclo while para este ejercicio. "
   ]
  },
  {
   "cell_type": "code",
   "execution_count": 80,
   "id": "95058973",
   "metadata": {},
   "outputs": [
    {
     "name": "stdout",
     "output_type": "stream",
     "text": [
      "Escriba un número mayor que 0: 15\n",
      "Los divisores de 15 son 1 3 5 15 "
     ]
    }
   ],
   "source": [
    "def main():\n",
    "    numero = int(input(\"Escriba un número mayor que 0: \"))\n",
    "\n",
    "    if numero <= 0:\n",
    "        print(\"Vuelva a intentar un número mayor  que 0\")\n",
    "    else:\n",
    "        print(f\"Los divisores de {numero} son \", end=\"\")\n",
    "        for i in range(1, numero + 1):\n",
    "            if numero % i == 0:\n",
    "                print(i, end=\" \")\n",
    "\n",
    "\n",
    "if __name__ == \"__main__\":\n",
    "    main()"
   ]
  },
  {
   "cell_type": "markdown",
   "id": "2aa11cc6",
   "metadata": {},
   "source": [
    "5) Haga un programa en Python que la fecha de nacimiento de una persona (puede ingresar por separado cada valor, es decir pedir primero día, luego mes y luego año), despliegue la edad de la persona en años, meses y días. \n",
    "\n",
    "Su resultado puede ser aproximado. "
   ]
  },
  {
   "cell_type": "code",
   "execution_count": 60,
   "id": "b209dff2",
   "metadata": {},
   "outputs": [
    {
     "ename": "KeyboardInterrupt",
     "evalue": "Interrupted by user",
     "output_type": "error",
     "traceback": [
      "\u001b[1;31m---------------------------------------------------------------------------\u001b[0m",
      "\u001b[1;31mKeyboardInterrupt\u001b[0m                         Traceback (most recent call last)",
      "\u001b[1;32mC:\\Users\\ANDRES~1\\AppData\\Local\\Temp/ipykernel_11560/159819997.py\u001b[0m in \u001b[0;36m<module>\u001b[1;34m\u001b[0m\n\u001b[0;32m      6\u001b[0m \u001b[1;33m\u001b[0m\u001b[0m\n\u001b[0;32m      7\u001b[0m \u001b[1;32mtry\u001b[0m\u001b[1;33m:\u001b[0m\u001b[1;33m\u001b[0m\u001b[1;33m\u001b[0m\u001b[0m\n\u001b[1;32m----> 8\u001b[1;33m     \u001b[0mdian\u001b[0m\u001b[1;33m=\u001b[0m\u001b[0mint\u001b[0m\u001b[1;33m(\u001b[0m\u001b[0minput\u001b[0m\u001b[1;33m(\u001b[0m\u001b[1;34m\"Ingrese su dia de nacimiento\"\u001b[0m\u001b[1;33m)\u001b[0m\u001b[1;33m)\u001b[0m\u001b[1;33m\u001b[0m\u001b[1;33m\u001b[0m\u001b[0m\n\u001b[0m\u001b[0;32m      9\u001b[0m     \u001b[0mmesn\u001b[0m\u001b[1;33m=\u001b[0m\u001b[0mint\u001b[0m\u001b[1;33m(\u001b[0m\u001b[0minput\u001b[0m\u001b[1;33m(\u001b[0m\u001b[1;34m\"Ingrese su mes de nacimiento\"\u001b[0m\u001b[1;33m)\u001b[0m\u001b[1;33m)\u001b[0m\u001b[1;33m\u001b[0m\u001b[1;33m\u001b[0m\u001b[0m\n\u001b[0;32m     10\u001b[0m     \u001b[0manion\u001b[0m\u001b[1;33m=\u001b[0m\u001b[0mint\u001b[0m\u001b[1;33m(\u001b[0m\u001b[0minput\u001b[0m\u001b[1;33m(\u001b[0m\u001b[1;34m\"Ingrese su año de nacimiento\"\u001b[0m\u001b[1;33m)\u001b[0m\u001b[1;33m)\u001b[0m\u001b[1;33m\u001b[0m\u001b[1;33m\u001b[0m\u001b[0m\n",
      "\u001b[1;32m~\\anaconda3\\lib\\site-packages\\ipykernel\\kernelbase.py\u001b[0m in \u001b[0;36mraw_input\u001b[1;34m(self, prompt)\u001b[0m\n\u001b[0;32m   1004\u001b[0m                 \u001b[1;34m\"raw_input was called, but this frontend does not support input requests.\"\u001b[0m\u001b[1;33m\u001b[0m\u001b[1;33m\u001b[0m\u001b[0m\n\u001b[0;32m   1005\u001b[0m             )\n\u001b[1;32m-> 1006\u001b[1;33m         return self._input_request(\n\u001b[0m\u001b[0;32m   1007\u001b[0m             \u001b[0mstr\u001b[0m\u001b[1;33m(\u001b[0m\u001b[0mprompt\u001b[0m\u001b[1;33m)\u001b[0m\u001b[1;33m,\u001b[0m\u001b[1;33m\u001b[0m\u001b[1;33m\u001b[0m\u001b[0m\n\u001b[0;32m   1008\u001b[0m             \u001b[0mself\u001b[0m\u001b[1;33m.\u001b[0m\u001b[0m_parent_ident\u001b[0m\u001b[1;33m[\u001b[0m\u001b[1;34m\"shell\"\u001b[0m\u001b[1;33m]\u001b[0m\u001b[1;33m,\u001b[0m\u001b[1;33m\u001b[0m\u001b[1;33m\u001b[0m\u001b[0m\n",
      "\u001b[1;32m~\\anaconda3\\lib\\site-packages\\ipykernel\\kernelbase.py\u001b[0m in \u001b[0;36m_input_request\u001b[1;34m(self, prompt, ident, parent, password)\u001b[0m\n\u001b[0;32m   1049\u001b[0m             \u001b[1;32mexcept\u001b[0m \u001b[0mKeyboardInterrupt\u001b[0m\u001b[1;33m:\u001b[0m\u001b[1;33m\u001b[0m\u001b[1;33m\u001b[0m\u001b[0m\n\u001b[0;32m   1050\u001b[0m                 \u001b[1;31m# re-raise KeyboardInterrupt, to truncate traceback\u001b[0m\u001b[1;33m\u001b[0m\u001b[1;33m\u001b[0m\u001b[0m\n\u001b[1;32m-> 1051\u001b[1;33m                 \u001b[1;32mraise\u001b[0m \u001b[0mKeyboardInterrupt\u001b[0m\u001b[1;33m(\u001b[0m\u001b[1;34m\"Interrupted by user\"\u001b[0m\u001b[1;33m)\u001b[0m \u001b[1;32mfrom\u001b[0m \u001b[1;32mNone\u001b[0m\u001b[1;33m\u001b[0m\u001b[1;33m\u001b[0m\u001b[0m\n\u001b[0m\u001b[0;32m   1052\u001b[0m             \u001b[1;32mexcept\u001b[0m \u001b[0mException\u001b[0m\u001b[1;33m:\u001b[0m\u001b[1;33m\u001b[0m\u001b[1;33m\u001b[0m\u001b[0m\n\u001b[0;32m   1053\u001b[0m                 \u001b[0mself\u001b[0m\u001b[1;33m.\u001b[0m\u001b[0mlog\u001b[0m\u001b[1;33m.\u001b[0m\u001b[0mwarning\u001b[0m\u001b[1;33m(\u001b[0m\u001b[1;34m\"Invalid Message:\"\u001b[0m\u001b[1;33m,\u001b[0m \u001b[0mexc_info\u001b[0m\u001b[1;33m=\u001b[0m\u001b[1;32mTrue\u001b[0m\u001b[1;33m)\u001b[0m\u001b[1;33m\u001b[0m\u001b[1;33m\u001b[0m\u001b[0m\n",
      "\u001b[1;31mKeyboardInterrupt\u001b[0m: Interrupted by user"
     ]
    }
   ],
   "source": [
    "from datetime import date\n",
    "Fechaactual = date.today()\n",
    "diaa = int(Fechaactual.strftime('%d'))\n",
    "mesa = int(Fechaactual.strftime('%m'))\n",
    "anioa = int(Fechaactual.strftime('%y'))\n",
    "\n",
    "try:\n",
    "    dian=int(input(\"Ingrese su dia de nacimiento\"))\n",
    "    mesn=int(input(\"Ingrese su mes de nacimiento\"))\n",
    "    anion=int(input(\"Ingrese su año de nacimiento\"))\n",
    "    diatotal=(((anioa*365)+(mesa*30)+(diaa))-((anion*365)+(mesn*30)+(dian)))\n",
    "    anio = int(diatotal/365)\n",
    "    mes=int((diatotal%365)/30)\n",
    "    dia=(diatotal - (anio*365)-(mes*30))\n",
    "    print(f\"Su edad es: {anio} años con {mes} meses y {dia} días\")\n",
    "    print(anio, mes, dia)\n",
    "except (ValueError):\n",
    "    print(\"Los datos no son validos\")"
   ]
  },
  {
   "cell_type": "code",
   "execution_count": 50,
   "id": "8ce77060",
   "metadata": {},
   "outputs": [
    {
     "name": "stdout",
     "output_type": "stream",
     "text": [
      "Mi edad es: 30\n"
     ]
    }
   ],
   "source": [
    "import datetime\n",
    " \n",
    "def edad(naci):\n",
    "    hoy = datetime.date.today()\n",
    "    if hoy < naci:\n",
    "        print ('error en la fecha de nacimiento')\n",
    "    else:\n",
    "        ano = naci.year\n",
    "        mes = naci.month\n",
    "        dia = naci.day\n",
    " \n",
    "        fecha = naci\n",
    "        edad = 0\n",
    "        while fecha < hoy:\n",
    "            edad += 1\n",
    "            fecha = datetime.date(ano+edad, mes, dia)\n",
    " \n",
    "        print ('Mi edad es: %s' % (edad-1))\n",
    " \n",
    "edad(datetime.date(1991, 11, 17))"
   ]
  },
  {
   "cell_type": "markdown",
   "id": "3589ad23",
   "metadata": {},
   "source": [
    "6) Haga un programa en Python que dado un número entre 1 y 20. Y un carácter cualquiera despliegue cuatro patrones triangulares.   \n",
    "\n",
    "Por ejemplo:  • Si el usuario ingresara el número 4 y el símbolo * el programa deberá desplegar lo siguiente: \n",
    "\n",
    "• Si el usuario ingresara el número 7 y el símbolo 7 el programa deberá desplegar lo siguiente (hay 5 espacios entre cada par de líneas amarillas): "
   ]
  },
  {
   "cell_type": "code",
   "execution_count": 77,
   "id": "4af9c3c5",
   "metadata": {},
   "outputs": [
    {
     "name": "stdout",
     "output_type": "stream",
     "text": [
      "Ingrese simbolo*\n",
      "Ingrese un numero entre 1 y 20:7\n",
      "Debe ser un numero menor a 20\n",
      "*           *******     *******           *\n",
      "**           ******     ******           **\n",
      "***           *****     *****           ***\n",
      "****           ****     ****           ****\n",
      "*****           ***     ***           *****\n",
      "******           **     **           ******\n",
      "*******           *     *           *******\n"
     ]
    }
   ],
   "source": [
    "try:\n",
    "  Simbolo = input((\"Ingrese simbolo\"))\n",
    "  Repeticion = int(input((\"Ingrese un numero entre 1 y 20:\")))\n",
    "  Espacios = \" \"*5\n",
    "  if Repeticion <=0:\n",
    "    print(\"Debe ser un numero mayor a 0\")\n",
    "  elif Repeticion >=0:\n",
    "    print(\"Debe ser un numero menor a 20\")\n",
    "except(ValueError):\n",
    "    print(\"Los datos no son validos\")\n",
    "\n",
    "for i in range (1,  Repeticion+1):\n",
    "    valora = Simbolo*i\n",
    "    valorb = Simbolo*(Repeticion-i+1)\n",
    "    valor1 = \"{0:<{vRepeticion}}\".format(valora,vRepeticion=Repeticion)\n",
    "    valor2 = \"{0:>{vRepeticion}}\".format(valorb,vRepeticion=Repeticion)\n",
    "    valor3 = \"{0:<{vRepeticion}}\".format(valorb,vRepeticion=Repeticion)\n",
    "    valor4 = \"{0:>{vRepeticion}}\".format(valora,vRepeticion=Repeticion)\n",
    "    print(valor1+Espacios+valor2+Espacios+valor3+Espacios+valor4)\n",
    "    "
   ]
  },
  {
   "cell_type": "code",
   "execution_count": null,
   "id": "91018d64",
   "metadata": {},
   "outputs": [],
   "source": []
  },
  {
   "cell_type": "code",
   "execution_count": null,
   "id": "7ae50ca8",
   "metadata": {},
   "outputs": [],
   "source": []
  }
 ],
 "metadata": {
  "kernelspec": {
   "display_name": "Python 3 (ipykernel)",
   "language": "python",
   "name": "python3"
  },
  "language_info": {
   "codemirror_mode": {
    "name": "ipython",
    "version": 3
   },
   "file_extension": ".py",
   "mimetype": "text/x-python",
   "name": "python",
   "nbconvert_exporter": "python",
   "pygments_lexer": "ipython3",
   "version": "3.9.7"
  }
 },
 "nbformat": 4,
 "nbformat_minor": 5
}
