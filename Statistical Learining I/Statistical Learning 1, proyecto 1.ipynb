{
 "cells": [
  {
   "cell_type": "code",
   "execution_count": 55,
   "metadata": {},
   "outputs": [],
   "source": [
    "import pandas as pd\n",
    "import numpy as np\n",
    "import matplotlib.pyplot as plt\n",
    "import seaborn as sns\n",
    "from sklearn.linear_model import LinearRegression"
   ]
  },
  {
   "cell_type": "code",
   "execution_count": 2,
   "metadata": {},
   "outputs": [],
   "source": [
    "df = np.load(\"C:/Users/Andres Salguero/Desktop/Proyecto 1Preng/proyecto_training_data.npy\", mmap_mode=None, allow_pickle=False, fix_imports=True, encoding ='ASCII')\n"
   ]
  },
  {
   "cell_type": "code",
   "execution_count": 3,
   "metadata": {},
   "outputs": [
    {
     "data": {
      "text/plain": [
       "(1460, 6)"
      ]
     },
     "execution_count": 3,
     "metadata": {},
     "output_type": "execute_result"
    }
   ],
   "source": [
    "df.shape"
   ]
  },
  {
   "cell_type": "code",
   "execution_count": 64,
   "metadata": {},
   "outputs": [
    {
     "data": {
      "text/plain": [
       "(1460, 6)"
      ]
     },
     "execution_count": 64,
     "metadata": {},
     "output_type": "execute_result"
    }
   ],
   "source": [
    "np.shape(df)"
   ]
  },
  {
   "cell_type": "code",
   "execution_count": 66,
   "metadata": {},
   "outputs": [],
   "source": [
    "separar = int(df.shape[0]*0.8)\n",
    "df[0:, 0]/= 1000 \n",
    "df[0:, 2]/= 1000"
   ]
  },
  {
   "cell_type": "code",
   "execution_count": 67,
   "metadata": {},
   "outputs": [],
   "source": [
    "dtrain = df[0: separar,:]\n",
    "dtest  = df[separar : , :]"
   ]
  },
  {
   "cell_type": "code",
   "execution_count": 5,
   "metadata": {},
   "outputs": [
    {
     "name": "stdout",
     "output_type": "stream",
     "text": [
      "[[2.08500e+05 7.00000e+00 8.56000e+02 8.00000e+00 2.00300e+03 6.50000e+01]\n",
      " [1.81500e+05 6.00000e+00 1.26200e+03 6.00000e+00 1.97600e+03 8.00000e+01]\n",
      " [2.23500e+05 7.00000e+00 9.20000e+02 6.00000e+00 2.00100e+03 6.80000e+01]\n",
      " ...\n",
      " [2.66500e+05 7.00000e+00 1.18800e+03 9.00000e+00 1.94100e+03 6.60000e+01]\n",
      " [1.42125e+05 5.00000e+00 1.07800e+03 5.00000e+00 1.95000e+03 6.80000e+01]\n",
      " [1.47500e+05 5.00000e+00 1.25600e+03 6.00000e+00 1.96500e+03 7.50000e+01]]\n"
     ]
    }
   ],
   "source": [
    "print(df)"
   ]
  },
  {
   "cell_type": "code",
   "execution_count": 6,
   "metadata": {},
   "outputs": [
    {
     "data": {
      "text/html": [
       "<div>\n",
       "<style scoped>\n",
       "    .dataframe tbody tr th:only-of-type {\n",
       "        vertical-align: middle;\n",
       "    }\n",
       "\n",
       "    .dataframe tbody tr th {\n",
       "        vertical-align: top;\n",
       "    }\n",
       "\n",
       "    .dataframe thead th {\n",
       "        text-align: right;\n",
       "    }\n",
       "</style>\n",
       "<table border=\"1\" class=\"dataframe\">\n",
       "  <thead>\n",
       "    <tr style=\"text-align: right;\">\n",
       "      <th></th>\n",
       "      <th>SalePrice</th>\n",
       "      <th>OverallQual</th>\n",
       "      <th>1stFlrSF</th>\n",
       "      <th>TotRmsAbvGrd</th>\n",
       "      <th>YearBuilt</th>\n",
       "      <th>LotFrontage</th>\n",
       "    </tr>\n",
       "  </thead>\n",
       "  <tbody>\n",
       "    <tr>\n",
       "      <th>0</th>\n",
       "      <td>208500.0</td>\n",
       "      <td>7.0</td>\n",
       "      <td>856.0</td>\n",
       "      <td>8.0</td>\n",
       "      <td>2003.0</td>\n",
       "      <td>65.0</td>\n",
       "    </tr>\n",
       "    <tr>\n",
       "      <th>1</th>\n",
       "      <td>181500.0</td>\n",
       "      <td>6.0</td>\n",
       "      <td>1262.0</td>\n",
       "      <td>6.0</td>\n",
       "      <td>1976.0</td>\n",
       "      <td>80.0</td>\n",
       "    </tr>\n",
       "    <tr>\n",
       "      <th>2</th>\n",
       "      <td>223500.0</td>\n",
       "      <td>7.0</td>\n",
       "      <td>920.0</td>\n",
       "      <td>6.0</td>\n",
       "      <td>2001.0</td>\n",
       "      <td>68.0</td>\n",
       "    </tr>\n",
       "    <tr>\n",
       "      <th>3</th>\n",
       "      <td>140000.0</td>\n",
       "      <td>7.0</td>\n",
       "      <td>961.0</td>\n",
       "      <td>7.0</td>\n",
       "      <td>1915.0</td>\n",
       "      <td>60.0</td>\n",
       "    </tr>\n",
       "    <tr>\n",
       "      <th>4</th>\n",
       "      <td>250000.0</td>\n",
       "      <td>8.0</td>\n",
       "      <td>1145.0</td>\n",
       "      <td>9.0</td>\n",
       "      <td>2000.0</td>\n",
       "      <td>84.0</td>\n",
       "    </tr>\n",
       "    <tr>\n",
       "      <th>...</th>\n",
       "      <td>...</td>\n",
       "      <td>...</td>\n",
       "      <td>...</td>\n",
       "      <td>...</td>\n",
       "      <td>...</td>\n",
       "      <td>...</td>\n",
       "    </tr>\n",
       "    <tr>\n",
       "      <th>1455</th>\n",
       "      <td>175000.0</td>\n",
       "      <td>6.0</td>\n",
       "      <td>953.0</td>\n",
       "      <td>7.0</td>\n",
       "      <td>1999.0</td>\n",
       "      <td>62.0</td>\n",
       "    </tr>\n",
       "    <tr>\n",
       "      <th>1456</th>\n",
       "      <td>210000.0</td>\n",
       "      <td>6.0</td>\n",
       "      <td>2073.0</td>\n",
       "      <td>7.0</td>\n",
       "      <td>1978.0</td>\n",
       "      <td>85.0</td>\n",
       "    </tr>\n",
       "    <tr>\n",
       "      <th>1457</th>\n",
       "      <td>266500.0</td>\n",
       "      <td>7.0</td>\n",
       "      <td>1188.0</td>\n",
       "      <td>9.0</td>\n",
       "      <td>1941.0</td>\n",
       "      <td>66.0</td>\n",
       "    </tr>\n",
       "    <tr>\n",
       "      <th>1458</th>\n",
       "      <td>142125.0</td>\n",
       "      <td>5.0</td>\n",
       "      <td>1078.0</td>\n",
       "      <td>5.0</td>\n",
       "      <td>1950.0</td>\n",
       "      <td>68.0</td>\n",
       "    </tr>\n",
       "    <tr>\n",
       "      <th>1459</th>\n",
       "      <td>147500.0</td>\n",
       "      <td>5.0</td>\n",
       "      <td>1256.0</td>\n",
       "      <td>6.0</td>\n",
       "      <td>1965.0</td>\n",
       "      <td>75.0</td>\n",
       "    </tr>\n",
       "  </tbody>\n",
       "</table>\n",
       "<p>1460 rows × 6 columns</p>\n",
       "</div>"
      ],
      "text/plain": [
       "      SalePrice  OverallQual  1stFlrSF  TotRmsAbvGrd  YearBuilt  LotFrontage\n",
       "0      208500.0          7.0     856.0           8.0     2003.0         65.0\n",
       "1      181500.0          6.0    1262.0           6.0     1976.0         80.0\n",
       "2      223500.0          7.0     920.0           6.0     2001.0         68.0\n",
       "3      140000.0          7.0     961.0           7.0     1915.0         60.0\n",
       "4      250000.0          8.0    1145.0           9.0     2000.0         84.0\n",
       "...         ...          ...       ...           ...        ...          ...\n",
       "1455   175000.0          6.0     953.0           7.0     1999.0         62.0\n",
       "1456   210000.0          6.0    2073.0           7.0     1978.0         85.0\n",
       "1457   266500.0          7.0    1188.0           9.0     1941.0         66.0\n",
       "1458   142125.0          5.0    1078.0           5.0     1950.0         68.0\n",
       "1459   147500.0          5.0    1256.0           6.0     1965.0         75.0\n",
       "\n",
       "[1460 rows x 6 columns]"
      ]
     },
     "execution_count": 6,
     "metadata": {},
     "output_type": "execute_result"
    }
   ],
   "source": [
    "dataset = pd.DataFrame(df, columns = ['SalePrice', 'OverallQual', '1stFlrSF', 'TotRmsAbvGrd','YearBuilt', 'LotFrontage'])\n",
    "dataset"
   ]
  },
  {
   "cell_type": "code",
   "execution_count": null,
   "metadata": {},
   "outputs": [
    {
     "ename": "NameError",
     "evalue": "name 'split_row' is not defined",
     "output_type": "error",
     "traceback": [
      "\u001b[1;31m---------------------------------------------------------------------------\u001b[0m",
      "\u001b[1;31mNameError\u001b[0m                                 Traceback (most recent call last)",
      "Input \u001b[1;32mIn [62]\u001b[0m, in \u001b[0;36m<cell line: 1>\u001b[1;34m()\u001b[0m\n\u001b[1;32m----> 1\u001b[0m dtrain \u001b[38;5;241m=\u001b[39m dataset[\u001b[38;5;241m0\u001b[39m: \u001b[43msplit_row\u001b[49m,:]\n",
      "\u001b[1;31mNameError\u001b[0m: name 'split_row' is not defined"
     ]
    }
   ],
   "source": []
  },
  {
   "cell_type": "code",
   "execution_count": 7,
   "metadata": {},
   "outputs": [
    {
     "data": {
      "text/html": [
       "<div>\n",
       "<style scoped>\n",
       "    .dataframe tbody tr th:only-of-type {\n",
       "        vertical-align: middle;\n",
       "    }\n",
       "\n",
       "    .dataframe tbody tr th {\n",
       "        vertical-align: top;\n",
       "    }\n",
       "\n",
       "    .dataframe thead th {\n",
       "        text-align: right;\n",
       "    }\n",
       "</style>\n",
       "<table border=\"1\" class=\"dataframe\">\n",
       "  <thead>\n",
       "    <tr style=\"text-align: right;\">\n",
       "      <th></th>\n",
       "      <th>SalePrice</th>\n",
       "      <th>OverallQual</th>\n",
       "      <th>1stFlrSF</th>\n",
       "      <th>TotRmsAbvGrd</th>\n",
       "      <th>YearBuilt</th>\n",
       "      <th>LotFrontage</th>\n",
       "    </tr>\n",
       "  </thead>\n",
       "  <tbody>\n",
       "    <tr>\n",
       "      <th>0</th>\n",
       "      <td>208500.0</td>\n",
       "      <td>7.0</td>\n",
       "      <td>856.0</td>\n",
       "      <td>8.0</td>\n",
       "      <td>2003.0</td>\n",
       "      <td>65.0</td>\n",
       "    </tr>\n",
       "    <tr>\n",
       "      <th>1</th>\n",
       "      <td>181500.0</td>\n",
       "      <td>6.0</td>\n",
       "      <td>1262.0</td>\n",
       "      <td>6.0</td>\n",
       "      <td>1976.0</td>\n",
       "      <td>80.0</td>\n",
       "    </tr>\n",
       "    <tr>\n",
       "      <th>2</th>\n",
       "      <td>223500.0</td>\n",
       "      <td>7.0</td>\n",
       "      <td>920.0</td>\n",
       "      <td>6.0</td>\n",
       "      <td>2001.0</td>\n",
       "      <td>68.0</td>\n",
       "    </tr>\n",
       "    <tr>\n",
       "      <th>3</th>\n",
       "      <td>140000.0</td>\n",
       "      <td>7.0</td>\n",
       "      <td>961.0</td>\n",
       "      <td>7.0</td>\n",
       "      <td>1915.0</td>\n",
       "      <td>60.0</td>\n",
       "    </tr>\n",
       "    <tr>\n",
       "      <th>4</th>\n",
       "      <td>250000.0</td>\n",
       "      <td>8.0</td>\n",
       "      <td>1145.0</td>\n",
       "      <td>9.0</td>\n",
       "      <td>2000.0</td>\n",
       "      <td>84.0</td>\n",
       "    </tr>\n",
       "  </tbody>\n",
       "</table>\n",
       "</div>"
      ],
      "text/plain": [
       "   SalePrice  OverallQual  1stFlrSF  TotRmsAbvGrd  YearBuilt  LotFrontage\n",
       "0   208500.0          7.0     856.0           8.0     2003.0         65.0\n",
       "1   181500.0          6.0    1262.0           6.0     1976.0         80.0\n",
       "2   223500.0          7.0     920.0           6.0     2001.0         68.0\n",
       "3   140000.0          7.0     961.0           7.0     1915.0         60.0\n",
       "4   250000.0          8.0    1145.0           9.0     2000.0         84.0"
      ]
     },
     "execution_count": 7,
     "metadata": {},
     "output_type": "execute_result"
    }
   ],
   "source": [
    "dataset.head()"
   ]
  },
  {
   "cell_type": "markdown",
   "metadata": {},
   "source": [
    "# Slicing Train/Test 80/20"
   ]
  },
  {
   "cell_type": "code",
   "execution_count": 8,
   "metadata": {},
   "outputs": [
    {
     "data": {
      "text/html": [
       "<div>\n",
       "<style scoped>\n",
       "    .dataframe tbody tr th:only-of-type {\n",
       "        vertical-align: middle;\n",
       "    }\n",
       "\n",
       "    .dataframe tbody tr th {\n",
       "        vertical-align: top;\n",
       "    }\n",
       "\n",
       "    .dataframe thead th {\n",
       "        text-align: right;\n",
       "    }\n",
       "</style>\n",
       "<table border=\"1\" class=\"dataframe\">\n",
       "  <thead>\n",
       "    <tr style=\"text-align: right;\">\n",
       "      <th></th>\n",
       "      <th>SalePrice</th>\n",
       "      <th>OverallQual</th>\n",
       "      <th>1stFlrSF</th>\n",
       "    </tr>\n",
       "  </thead>\n",
       "  <tbody>\n",
       "    <tr>\n",
       "      <th>0</th>\n",
       "      <td>208500.0</td>\n",
       "      <td>7.0</td>\n",
       "      <td>856.0</td>\n",
       "    </tr>\n",
       "    <tr>\n",
       "      <th>1</th>\n",
       "      <td>181500.0</td>\n",
       "      <td>6.0</td>\n",
       "      <td>1262.0</td>\n",
       "    </tr>\n",
       "    <tr>\n",
       "      <th>2</th>\n",
       "      <td>223500.0</td>\n",
       "      <td>7.0</td>\n",
       "      <td>920.0</td>\n",
       "    </tr>\n",
       "    <tr>\n",
       "      <th>3</th>\n",
       "      <td>140000.0</td>\n",
       "      <td>7.0</td>\n",
       "      <td>961.0</td>\n",
       "    </tr>\n",
       "    <tr>\n",
       "      <th>4</th>\n",
       "      <td>250000.0</td>\n",
       "      <td>8.0</td>\n",
       "      <td>1145.0</td>\n",
       "    </tr>\n",
       "    <tr>\n",
       "      <th>...</th>\n",
       "      <td>...</td>\n",
       "      <td>...</td>\n",
       "      <td>...</td>\n",
       "    </tr>\n",
       "    <tr>\n",
       "      <th>1455</th>\n",
       "      <td>175000.0</td>\n",
       "      <td>6.0</td>\n",
       "      <td>953.0</td>\n",
       "    </tr>\n",
       "    <tr>\n",
       "      <th>1456</th>\n",
       "      <td>210000.0</td>\n",
       "      <td>6.0</td>\n",
       "      <td>2073.0</td>\n",
       "    </tr>\n",
       "    <tr>\n",
       "      <th>1457</th>\n",
       "      <td>266500.0</td>\n",
       "      <td>7.0</td>\n",
       "      <td>1188.0</td>\n",
       "    </tr>\n",
       "    <tr>\n",
       "      <th>1458</th>\n",
       "      <td>142125.0</td>\n",
       "      <td>5.0</td>\n",
       "      <td>1078.0</td>\n",
       "    </tr>\n",
       "    <tr>\n",
       "      <th>1459</th>\n",
       "      <td>147500.0</td>\n",
       "      <td>5.0</td>\n",
       "      <td>1256.0</td>\n",
       "    </tr>\n",
       "  </tbody>\n",
       "</table>\n",
       "<p>1460 rows × 3 columns</p>\n",
       "</div>"
      ],
      "text/plain": [
       "      SalePrice  OverallQual  1stFlrSF\n",
       "0      208500.0          7.0     856.0\n",
       "1      181500.0          6.0    1262.0\n",
       "2      223500.0          7.0     920.0\n",
       "3      140000.0          7.0     961.0\n",
       "4      250000.0          8.0    1145.0\n",
       "...         ...          ...       ...\n",
       "1455   175000.0          6.0     953.0\n",
       "1456   210000.0          6.0    2073.0\n",
       "1457   266500.0          7.0    1188.0\n",
       "1458   142125.0          5.0    1078.0\n",
       "1459   147500.0          5.0    1256.0\n",
       "\n",
       "[1460 rows x 3 columns]"
      ]
     },
     "execution_count": 8,
     "metadata": {},
     "output_type": "execute_result"
    }
   ],
   "source": [
    "ndataset = pd.DataFrame(dataset, columns =  ['SalePrice', 'OverallQual', '1stFlrSF'])\n",
    "ndataset"
   ]
  },
  {
   "cell_type": "code",
   "execution_count": 9,
   "metadata": {},
   "outputs": [],
   "source": [
    "mask = np.random.rand(len(ndataset)) <= 0.8\n",
    "df_train = df[mask]\n",
    "df_test = df[~mask]"
   ]
  },
  {
   "cell_type": "code",
   "execution_count": 10,
   "metadata": {},
   "outputs": [],
   "source": [
    "df_train =  pd.DataFrame(df_train, columns = ['SalePrice', 'OverallQual', '1stFlrSF', 'TotRmsAbvGrd','YearBuilt', 'LotFrontage'])"
   ]
  },
  {
   "cell_type": "code",
   "execution_count": 11,
   "metadata": {},
   "outputs": [],
   "source": [
    "df_test =  pd.DataFrame(df_test, columns = ['SalePrice', 'OverallQual', '1stFlrSF', 'TotRmsAbvGrd','YearBuilt', 'LotFrontage'])"
   ]
  },
  {
   "cell_type": "code",
   "execution_count": 12,
   "metadata": {},
   "outputs": [
    {
     "data": {
      "text/html": [
       "<div>\n",
       "<style scoped>\n",
       "    .dataframe tbody tr th:only-of-type {\n",
       "        vertical-align: middle;\n",
       "    }\n",
       "\n",
       "    .dataframe tbody tr th {\n",
       "        vertical-align: top;\n",
       "    }\n",
       "\n",
       "    .dataframe thead th {\n",
       "        text-align: right;\n",
       "    }\n",
       "</style>\n",
       "<table border=\"1\" class=\"dataframe\">\n",
       "  <thead>\n",
       "    <tr style=\"text-align: right;\">\n",
       "      <th></th>\n",
       "      <th>SalePrice</th>\n",
       "      <th>OverallQual</th>\n",
       "      <th>1stFlrSF</th>\n",
       "      <th>TotRmsAbvGrd</th>\n",
       "      <th>YearBuilt</th>\n",
       "      <th>LotFrontage</th>\n",
       "    </tr>\n",
       "  </thead>\n",
       "  <tbody>\n",
       "    <tr>\n",
       "      <th>0</th>\n",
       "      <td>208500.0</td>\n",
       "      <td>7.0</td>\n",
       "      <td>856.0</td>\n",
       "      <td>8.0</td>\n",
       "      <td>2003.0</td>\n",
       "      <td>65.0</td>\n",
       "    </tr>\n",
       "    <tr>\n",
       "      <th>1</th>\n",
       "      <td>223500.0</td>\n",
       "      <td>7.0</td>\n",
       "      <td>920.0</td>\n",
       "      <td>6.0</td>\n",
       "      <td>2001.0</td>\n",
       "      <td>68.0</td>\n",
       "    </tr>\n",
       "    <tr>\n",
       "      <th>2</th>\n",
       "      <td>143000.0</td>\n",
       "      <td>5.0</td>\n",
       "      <td>796.0</td>\n",
       "      <td>5.0</td>\n",
       "      <td>1993.0</td>\n",
       "      <td>85.0</td>\n",
       "    </tr>\n",
       "    <tr>\n",
       "      <th>3</th>\n",
       "      <td>307000.0</td>\n",
       "      <td>8.0</td>\n",
       "      <td>1694.0</td>\n",
       "      <td>7.0</td>\n",
       "      <td>2004.0</td>\n",
       "      <td>75.0</td>\n",
       "    </tr>\n",
       "    <tr>\n",
       "      <th>4</th>\n",
       "      <td>200000.0</td>\n",
       "      <td>7.0</td>\n",
       "      <td>1107.0</td>\n",
       "      <td>7.0</td>\n",
       "      <td>1973.0</td>\n",
       "      <td>NaN</td>\n",
       "    </tr>\n",
       "  </tbody>\n",
       "</table>\n",
       "</div>"
      ],
      "text/plain": [
       "   SalePrice  OverallQual  1stFlrSF  TotRmsAbvGrd  YearBuilt  LotFrontage\n",
       "0   208500.0          7.0     856.0           8.0     2003.0         65.0\n",
       "1   223500.0          7.0     920.0           6.0     2001.0         68.0\n",
       "2   143000.0          5.0     796.0           5.0     1993.0         85.0\n",
       "3   307000.0          8.0    1694.0           7.0     2004.0         75.0\n",
       "4   200000.0          7.0    1107.0           7.0     1973.0          NaN"
      ]
     },
     "execution_count": 12,
     "metadata": {},
     "output_type": "execute_result"
    }
   ],
   "source": [
    "df_train.head()"
   ]
  },
  {
   "cell_type": "code",
   "execution_count": 13,
   "metadata": {},
   "outputs": [
    {
     "data": {
      "text/html": [
       "<div>\n",
       "<style scoped>\n",
       "    .dataframe tbody tr th:only-of-type {\n",
       "        vertical-align: middle;\n",
       "    }\n",
       "\n",
       "    .dataframe tbody tr th {\n",
       "        vertical-align: top;\n",
       "    }\n",
       "\n",
       "    .dataframe thead th {\n",
       "        text-align: right;\n",
       "    }\n",
       "</style>\n",
       "<table border=\"1\" class=\"dataframe\">\n",
       "  <thead>\n",
       "    <tr style=\"text-align: right;\">\n",
       "      <th></th>\n",
       "      <th>SalePrice</th>\n",
       "      <th>OverallQual</th>\n",
       "      <th>1stFlrSF</th>\n",
       "      <th>TotRmsAbvGrd</th>\n",
       "      <th>YearBuilt</th>\n",
       "      <th>LotFrontage</th>\n",
       "    </tr>\n",
       "  </thead>\n",
       "  <tbody>\n",
       "    <tr>\n",
       "      <th>0</th>\n",
       "      <td>181500.0</td>\n",
       "      <td>6.0</td>\n",
       "      <td>1262.0</td>\n",
       "      <td>6.0</td>\n",
       "      <td>1976.0</td>\n",
       "      <td>80.0</td>\n",
       "    </tr>\n",
       "    <tr>\n",
       "      <th>1</th>\n",
       "      <td>140000.0</td>\n",
       "      <td>7.0</td>\n",
       "      <td>961.0</td>\n",
       "      <td>7.0</td>\n",
       "      <td>1915.0</td>\n",
       "      <td>60.0</td>\n",
       "    </tr>\n",
       "    <tr>\n",
       "      <th>2</th>\n",
       "      <td>250000.0</td>\n",
       "      <td>8.0</td>\n",
       "      <td>1145.0</td>\n",
       "      <td>9.0</td>\n",
       "      <td>2000.0</td>\n",
       "      <td>84.0</td>\n",
       "    </tr>\n",
       "    <tr>\n",
       "      <th>3</th>\n",
       "      <td>129500.0</td>\n",
       "      <td>5.0</td>\n",
       "      <td>1040.0</td>\n",
       "      <td>5.0</td>\n",
       "      <td>1965.0</td>\n",
       "      <td>70.0</td>\n",
       "    </tr>\n",
       "    <tr>\n",
       "      <th>4</th>\n",
       "      <td>279500.0</td>\n",
       "      <td>7.0</td>\n",
       "      <td>1494.0</td>\n",
       "      <td>7.0</td>\n",
       "      <td>2006.0</td>\n",
       "      <td>91.0</td>\n",
       "    </tr>\n",
       "  </tbody>\n",
       "</table>\n",
       "</div>"
      ],
      "text/plain": [
       "   SalePrice  OverallQual  1stFlrSF  TotRmsAbvGrd  YearBuilt  LotFrontage\n",
       "0   181500.0          6.0    1262.0           6.0     1976.0         80.0\n",
       "1   140000.0          7.0     961.0           7.0     1915.0         60.0\n",
       "2   250000.0          8.0    1145.0           9.0     2000.0         84.0\n",
       "3   129500.0          5.0    1040.0           5.0     1965.0         70.0\n",
       "4   279500.0          7.0    1494.0           7.0     2006.0         91.0"
      ]
     },
     "execution_count": 13,
     "metadata": {},
     "output_type": "execute_result"
    }
   ],
   "source": [
    "df_test.head()"
   ]
  },
  {
   "cell_type": "markdown",
   "metadata": {},
   "source": [
    "# Analisis exploratorio de datos"
   ]
  },
  {
   "cell_type": "code",
   "execution_count": 14,
   "metadata": {},
   "outputs": [
    {
     "data": {
      "text/html": [
       "<div>\n",
       "<style scoped>\n",
       "    .dataframe tbody tr th:only-of-type {\n",
       "        vertical-align: middle;\n",
       "    }\n",
       "\n",
       "    .dataframe tbody tr th {\n",
       "        vertical-align: top;\n",
       "    }\n",
       "\n",
       "    .dataframe thead th {\n",
       "        text-align: right;\n",
       "    }\n",
       "</style>\n",
       "<table border=\"1\" class=\"dataframe\">\n",
       "  <thead>\n",
       "    <tr style=\"text-align: right;\">\n",
       "      <th></th>\n",
       "      <th>SalePrice</th>\n",
       "      <th>OverallQual</th>\n",
       "      <th>1stFlrSF</th>\n",
       "      <th>TotRmsAbvGrd</th>\n",
       "      <th>YearBuilt</th>\n",
       "      <th>LotFrontage</th>\n",
       "    </tr>\n",
       "  </thead>\n",
       "  <tbody>\n",
       "    <tr>\n",
       "      <th>count</th>\n",
       "      <td>1165.000000</td>\n",
       "      <td>1165.000000</td>\n",
       "      <td>1165.000000</td>\n",
       "      <td>1165.000000</td>\n",
       "      <td>1165.000000</td>\n",
       "      <td>961.000000</td>\n",
       "    </tr>\n",
       "    <tr>\n",
       "      <th>mean</th>\n",
       "      <td>181218.243777</td>\n",
       "      <td>6.104721</td>\n",
       "      <td>1161.439485</td>\n",
       "      <td>6.515880</td>\n",
       "      <td>1971.987983</td>\n",
       "      <td>69.566077</td>\n",
       "    </tr>\n",
       "    <tr>\n",
       "      <th>std</th>\n",
       "      <td>77404.582712</td>\n",
       "      <td>1.380156</td>\n",
       "      <td>369.430988</td>\n",
       "      <td>1.601373</td>\n",
       "      <td>29.959076</td>\n",
       "      <td>22.239184</td>\n",
       "    </tr>\n",
       "    <tr>\n",
       "      <th>min</th>\n",
       "      <td>35311.000000</td>\n",
       "      <td>1.000000</td>\n",
       "      <td>334.000000</td>\n",
       "      <td>2.000000</td>\n",
       "      <td>1872.000000</td>\n",
       "      <td>21.000000</td>\n",
       "    </tr>\n",
       "    <tr>\n",
       "      <th>25%</th>\n",
       "      <td>130250.000000</td>\n",
       "      <td>5.000000</td>\n",
       "      <td>884.000000</td>\n",
       "      <td>5.000000</td>\n",
       "      <td>1954.000000</td>\n",
       "      <td>59.000000</td>\n",
       "    </tr>\n",
       "    <tr>\n",
       "      <th>50%</th>\n",
       "      <td>165000.000000</td>\n",
       "      <td>6.000000</td>\n",
       "      <td>1095.000000</td>\n",
       "      <td>6.000000</td>\n",
       "      <td>1974.000000</td>\n",
       "      <td>70.000000</td>\n",
       "    </tr>\n",
       "    <tr>\n",
       "      <th>75%</th>\n",
       "      <td>214900.000000</td>\n",
       "      <td>7.000000</td>\n",
       "      <td>1390.000000</td>\n",
       "      <td>7.000000</td>\n",
       "      <td>2001.000000</td>\n",
       "      <td>80.000000</td>\n",
       "    </tr>\n",
       "    <tr>\n",
       "      <th>max</th>\n",
       "      <td>745000.000000</td>\n",
       "      <td>10.000000</td>\n",
       "      <td>3138.000000</td>\n",
       "      <td>14.000000</td>\n",
       "      <td>2010.000000</td>\n",
       "      <td>182.000000</td>\n",
       "    </tr>\n",
       "  </tbody>\n",
       "</table>\n",
       "</div>"
      ],
      "text/plain": [
       "           SalePrice  OverallQual     1stFlrSF  TotRmsAbvGrd    YearBuilt  \\\n",
       "count    1165.000000  1165.000000  1165.000000   1165.000000  1165.000000   \n",
       "mean   181218.243777     6.104721  1161.439485      6.515880  1971.987983   \n",
       "std     77404.582712     1.380156   369.430988      1.601373    29.959076   \n",
       "min     35311.000000     1.000000   334.000000      2.000000  1872.000000   \n",
       "25%    130250.000000     5.000000   884.000000      5.000000  1954.000000   \n",
       "50%    165000.000000     6.000000  1095.000000      6.000000  1974.000000   \n",
       "75%    214900.000000     7.000000  1390.000000      7.000000  2001.000000   \n",
       "max    745000.000000    10.000000  3138.000000     14.000000  2010.000000   \n",
       "\n",
       "       LotFrontage  \n",
       "count   961.000000  \n",
       "mean     69.566077  \n",
       "std      22.239184  \n",
       "min      21.000000  \n",
       "25%      59.000000  \n",
       "50%      70.000000  \n",
       "75%      80.000000  \n",
       "max     182.000000  "
      ]
     },
     "execution_count": 14,
     "metadata": {},
     "output_type": "execute_result"
    }
   ],
   "source": [
    "df_train.describe()"
   ]
  },
  {
   "cell_type": "code",
   "execution_count": 15,
   "metadata": {},
   "outputs": [
    {
     "data": {
      "text/html": [
       "<div>\n",
       "<style scoped>\n",
       "    .dataframe tbody tr th:only-of-type {\n",
       "        vertical-align: middle;\n",
       "    }\n",
       "\n",
       "    .dataframe tbody tr th {\n",
       "        vertical-align: top;\n",
       "    }\n",
       "\n",
       "    .dataframe thead th {\n",
       "        text-align: right;\n",
       "    }\n",
       "</style>\n",
       "<table border=\"1\" class=\"dataframe\">\n",
       "  <thead>\n",
       "    <tr style=\"text-align: right;\">\n",
       "      <th></th>\n",
       "      <th>SalePrice</th>\n",
       "      <th>OverallQual</th>\n",
       "      <th>1stFlrSF</th>\n",
       "      <th>TotRmsAbvGrd</th>\n",
       "      <th>YearBuilt</th>\n",
       "      <th>LotFrontage</th>\n",
       "    </tr>\n",
       "  </thead>\n",
       "  <tbody>\n",
       "    <tr>\n",
       "      <th>count</th>\n",
       "      <td>295.000000</td>\n",
       "      <td>295.000000</td>\n",
       "      <td>295.000000</td>\n",
       "      <td>295.000000</td>\n",
       "      <td>295.000000</td>\n",
       "      <td>240.000000</td>\n",
       "    </tr>\n",
       "    <tr>\n",
       "      <th>mean</th>\n",
       "      <td>179748.108475</td>\n",
       "      <td>6.077966</td>\n",
       "      <td>1167.315254</td>\n",
       "      <td>6.525424</td>\n",
       "      <td>1968.423729</td>\n",
       "      <td>71.987500</td>\n",
       "    </tr>\n",
       "    <tr>\n",
       "      <th>std</th>\n",
       "      <td>87157.144964</td>\n",
       "      <td>1.396310</td>\n",
       "      <td>448.647573</td>\n",
       "      <td>1.719792</td>\n",
       "      <td>31.035860</td>\n",
       "      <td>31.141126</td>\n",
       "    </tr>\n",
       "    <tr>\n",
       "      <th>min</th>\n",
       "      <td>34900.000000</td>\n",
       "      <td>3.000000</td>\n",
       "      <td>483.000000</td>\n",
       "      <td>3.000000</td>\n",
       "      <td>1880.000000</td>\n",
       "      <td>21.000000</td>\n",
       "    </tr>\n",
       "    <tr>\n",
       "      <th>25%</th>\n",
       "      <td>127500.000000</td>\n",
       "      <td>5.000000</td>\n",
       "      <td>864.000000</td>\n",
       "      <td>5.000000</td>\n",
       "      <td>1948.000000</td>\n",
       "      <td>59.000000</td>\n",
       "    </tr>\n",
       "    <tr>\n",
       "      <th>50%</th>\n",
       "      <td>155900.000000</td>\n",
       "      <td>6.000000</td>\n",
       "      <td>1057.000000</td>\n",
       "      <td>6.000000</td>\n",
       "      <td>1970.000000</td>\n",
       "      <td>68.000000</td>\n",
       "    </tr>\n",
       "    <tr>\n",
       "      <th>75%</th>\n",
       "      <td>202150.000000</td>\n",
       "      <td>7.000000</td>\n",
       "      <td>1399.500000</td>\n",
       "      <td>7.500000</td>\n",
       "      <td>1999.000000</td>\n",
       "      <td>80.000000</td>\n",
       "    </tr>\n",
       "    <tr>\n",
       "      <th>max</th>\n",
       "      <td>755000.000000</td>\n",
       "      <td>10.000000</td>\n",
       "      <td>4692.000000</td>\n",
       "      <td>12.000000</td>\n",
       "      <td>2009.000000</td>\n",
       "      <td>313.000000</td>\n",
       "    </tr>\n",
       "  </tbody>\n",
       "</table>\n",
       "</div>"
      ],
      "text/plain": [
       "           SalePrice  OverallQual     1stFlrSF  TotRmsAbvGrd    YearBuilt  \\\n",
       "count     295.000000   295.000000   295.000000    295.000000   295.000000   \n",
       "mean   179748.108475     6.077966  1167.315254      6.525424  1968.423729   \n",
       "std     87157.144964     1.396310   448.647573      1.719792    31.035860   \n",
       "min     34900.000000     3.000000   483.000000      3.000000  1880.000000   \n",
       "25%    127500.000000     5.000000   864.000000      5.000000  1948.000000   \n",
       "50%    155900.000000     6.000000  1057.000000      6.000000  1970.000000   \n",
       "75%    202150.000000     7.000000  1399.500000      7.500000  1999.000000   \n",
       "max    755000.000000    10.000000  4692.000000     12.000000  2009.000000   \n",
       "\n",
       "       LotFrontage  \n",
       "count   240.000000  \n",
       "mean     71.987500  \n",
       "std      31.141126  \n",
       "min      21.000000  \n",
       "25%      59.000000  \n",
       "50%      68.000000  \n",
       "75%      80.000000  \n",
       "max     313.000000  "
      ]
     },
     "execution_count": 15,
     "metadata": {},
     "output_type": "execute_result"
    }
   ],
   "source": [
    "df_test.describe()"
   ]
  },
  {
   "cell_type": "code",
   "execution_count": 16,
   "metadata": {},
   "outputs": [
    {
     "data": {
      "text/html": [
       "<div>\n",
       "<style scoped>\n",
       "    .dataframe tbody tr th:only-of-type {\n",
       "        vertical-align: middle;\n",
       "    }\n",
       "\n",
       "    .dataframe tbody tr th {\n",
       "        vertical-align: top;\n",
       "    }\n",
       "\n",
       "    .dataframe thead th {\n",
       "        text-align: right;\n",
       "    }\n",
       "</style>\n",
       "<table border=\"1\" class=\"dataframe\">\n",
       "  <thead>\n",
       "    <tr style=\"text-align: right;\">\n",
       "      <th></th>\n",
       "      <th>SalePrice</th>\n",
       "      <th>OverallQual</th>\n",
       "      <th>1stFlrSF</th>\n",
       "    </tr>\n",
       "  </thead>\n",
       "  <tbody>\n",
       "    <tr>\n",
       "      <th>count</th>\n",
       "      <td>1460.0000</td>\n",
       "      <td>1460.0000</td>\n",
       "      <td>1460.0000</td>\n",
       "    </tr>\n",
       "    <tr>\n",
       "      <th>mean</th>\n",
       "      <td>180921.1959</td>\n",
       "      <td>6.0993</td>\n",
       "      <td>1162.6267</td>\n",
       "    </tr>\n",
       "    <tr>\n",
       "      <th>std</th>\n",
       "      <td>79442.5029</td>\n",
       "      <td>1.3830</td>\n",
       "      <td>386.5877</td>\n",
       "    </tr>\n",
       "    <tr>\n",
       "      <th>min</th>\n",
       "      <td>34900.0000</td>\n",
       "      <td>1.0000</td>\n",
       "      <td>334.0000</td>\n",
       "    </tr>\n",
       "    <tr>\n",
       "      <th>25%</th>\n",
       "      <td>129975.0000</td>\n",
       "      <td>5.0000</td>\n",
       "      <td>882.0000</td>\n",
       "    </tr>\n",
       "    <tr>\n",
       "      <th>50%</th>\n",
       "      <td>163000.0000</td>\n",
       "      <td>6.0000</td>\n",
       "      <td>1087.0000</td>\n",
       "    </tr>\n",
       "    <tr>\n",
       "      <th>75%</th>\n",
       "      <td>214000.0000</td>\n",
       "      <td>7.0000</td>\n",
       "      <td>1391.2500</td>\n",
       "    </tr>\n",
       "    <tr>\n",
       "      <th>max</th>\n",
       "      <td>755000.0000</td>\n",
       "      <td>10.0000</td>\n",
       "      <td>4692.0000</td>\n",
       "    </tr>\n",
       "  </tbody>\n",
       "</table>\n",
       "</div>"
      ],
      "text/plain": [
       "         SalePrice  OverallQual   1stFlrSF\n",
       "count    1460.0000    1460.0000  1460.0000\n",
       "mean   180921.1959       6.0993  1162.6267\n",
       "std     79442.5029       1.3830   386.5877\n",
       "min     34900.0000       1.0000   334.0000\n",
       "25%    129975.0000       5.0000   882.0000\n",
       "50%    163000.0000       6.0000  1087.0000\n",
       "75%    214000.0000       7.0000  1391.2500\n",
       "max    755000.0000      10.0000  4692.0000"
      ]
     },
     "execution_count": 16,
     "metadata": {},
     "output_type": "execute_result"
    }
   ],
   "source": [
    "ndataset.describe().round(4)"
   ]
  },
  {
   "cell_type": "markdown",
   "metadata": {},
   "source": [
    "# Graficar un histograma de la variable"
   ]
  },
  {
   "cell_type": "code",
   "execution_count": 17,
   "metadata": {},
   "outputs": [
    {
     "data": {
      "text/plain": [
       "<seaborn.axisgrid.FacetGrid at 0x15361bab9d0>"
      ]
     },
     "execution_count": 17,
     "metadata": {},
     "output_type": "execute_result"
    },
    {
     "data": {
      "image/png": "[encoded data removed]",
      "text/plain": [
       "<Figure size 360x360 with 1 Axes>"
      ]
     },
     "metadata": {
      "needs_background": "light"
     },
     "output_type": "display_data"
    },
    {
     "data": {
      "image/png": "[encoded data removed]",
      "text/plain": [
       "<Figure size 360x360 with 1 Axes>"
      ]
     },
     "metadata": {
      "needs_background": "light"
     },
     "output_type": "display_data"
    },
    {
     "data": {
      "image/png": "[encoded data removed]",
      "text/plain": [
       "<Figure size 360x360 with 1 Axes>"
      ]
     },
     "metadata": {
      "needs_background": "light"
     },
     "output_type": "display_data"
    }
   ],
   "source": [
    "sns.displot(data=df_train, x=\"SalePrice\", kde=True)\n",
    "sns.displot(data=df_train, x=\"OverallQual\", kde=True)\n",
    "sns.displot(data=df_train, x=\"1stFlrSF\", kde=True)\n"
   ]
  },
  {
   "cell_type": "code",
   "execution_count": 18,
   "metadata": {},
   "outputs": [
    {
     "data": {
      "text/plain": [
       "<seaborn.axisgrid.FacetGrid at 0x153622bb400>"
      ]
     },
     "execution_count": 18,
     "metadata": {},
     "output_type": "execute_result"
    },
    {
     "data": {
      "image/png": "[encoded data removed]",
      "text/plain": [
       "<Figure size 360x360 with 1 Axes>"
      ]
     },
     "metadata": {
      "needs_background": "light"
     },
     "output_type": "display_data"
    },
    {
     "data": {
      "image/png": "[encoded data removed]",
      "text/plain": [
       "<Figure size 360x360 with 1 Axes>"
      ]
     },
     "metadata": {
      "needs_background": "light"
     },
     "output_type": "display_data"
    },
    {
     "data": {
      "image/png": "[encoded data removed]",
      "text/plain": [
       "<Figure size 360x360 with 1 Axes>"
      ]
     },
     "metadata": {
      "needs_background": "light"
     },
     "output_type": "display_data"
    }
   ],
   "source": [
    "sns.displot(data=df_test, x=\"SalePrice\", kde=True)\n",
    "sns.displot(data=df_test, x=\"OverallQual\", kde=True)\n",
    "sns.displot(data=df_test, x=\"1stFlrSF\", kde=True)"
   ]
  },
  {
   "cell_type": "markdown",
   "metadata": {},
   "source": [
    "# 5. Para cada variable independiente x :"
   ]
  },
  {
   "cell_type": "markdown",
   "metadata": {},
   "source": [
    "### Coef. de correlación de todas las variables: Seleccionamos las que tengan mayor correlación."
   ]
  },
  {
   "cell_type": "code",
   "execution_count": 19,
   "metadata": {},
   "outputs": [],
   "source": [
    "def colcCorrCoef(df, target):\n",
    "    #X = df.copy()\n",
    "    #X.drop([target], inplace = True)\n",
    "    for col in df.columns:\n",
    "        print('Correlación - ' + col + \":\",\n",
    "              df[target].corr(df[col], method = 'pearson'))"
   ]
  },
  {
   "cell_type": "code",
   "execution_count": 20,
   "metadata": {},
   "outputs": [
    {
     "name": "stdout",
     "output_type": "stream",
     "text": [
      "Correlación - SalePrice: 1.0\n",
      "Correlación - OverallQual: 0.790981600583805\n",
      "Correlación - 1stFlrSF: 0.6058521846919146\n",
      "Correlación - TotRmsAbvGrd: 0.5337231555820275\n",
      "Correlación - YearBuilt: 0.5228973328794974\n",
      "Correlación - LotFrontage: 0.35179909657067826\n"
     ]
    }
   ],
   "source": [
    "colcCorrCoef(dataset, 'SalePrice')"
   ]
  },
  {
   "cell_type": "markdown",
   "metadata": {},
   "source": [
    "### Graficar x vs y(scatterplot) usando matplotlib"
   ]
  },
  {
   "cell_type": "code",
   "execution_count": 21,
   "metadata": {},
   "outputs": [
    {
     "data": {
      "image/png": "[encoded data removed]",
      "text/plain": [
       "<Figure size 360x360 with 1 Axes>"
      ]
     },
     "metadata": {
      "needs_background": "light"
     },
     "output_type": "display_data"
    },
    {
     "data": {
      "image/png": "[encoded data removed]",
      "text/plain": [
       "<Figure size 360x360 with 1 Axes>"
      ]
     },
     "metadata": {
      "needs_background": "light"
     },
     "output_type": "display_data"
    }
   ],
   "source": [
    "sns.lmplot(x='OverallQual', y='SalePrice', data=df_train, lowess=False) \n",
    "plt.title(\"Scatter Plot: SalePrice vs OverallQual, Correlación - OverallQual: 0.790981600583805\");\n",
    "\n",
    "sns.lmplot(x='1stFlrSF', y='SalePrice', data=df_train, lowess=False) \n",
    "plt.title(\"Scatter Plot: SalePrice vs 1stFlrSF, Correlación - 1stFlrSF: 0.6058521846919146\");"
   ]
  },
  {
   "cell_type": "markdown",
   "metadata": {},
   "source": [
    "# Utilizar variable = OverallWual y 1stFlrSF para predecir SalePrice"
   ]
  },
  {
   "cell_type": "code",
   "execution_count": null,
   "metadata": {},
   "outputs": [],
   "source": [
    "#parametros de la funcion"
   ]
  },
  {
   "cell_type": "code",
   "execution_count": 39,
   "metadata": {},
   "outputs": [],
   "source": [
    "X = df_train['OverallQual']\n",
    "Y = df_train['SalePrice']\n",
    "epochs = 100\n",
    "imprimir_error_cada = 20\n",
    "learning_rate = 1\n"
   ]
  },
  {
   "cell_type": "markdown",
   "metadata": {},
   "source": [
    "# cuerpo de la función"
   ]
  },
  {
   "cell_type": "code",
   "execution_count": 40,
   "metadata": {},
   "outputs": [
    {
     "name": "stdout",
     "output_type": "stream",
     "text": [
      "Beta0:  -7.542597658508943e+162\n",
      "Beta1:  -4.83383150284903e+163\n"
     ]
    }
   ],
   "source": [
    "unos = np.ones(np.shape(X)).reshape(-1, 1)\n",
    "X = X.to_numpy().reshape(-1, 1)\n",
    "A = np.hstack([X, unos])\n",
    "errores = []\n",
    "b0 = 10\n",
    "b1 = 20\n",
    "\n",
    "for i in range(epochs):\n",
    "    betas = np.array([b1,b0]).reshape(-1, 1)\n",
    "    yEstimado = np.matmul(A, betas)\n",
    "    gradienteB0 = np.mean(yEstimado - Y.to_numpy())\n",
    "    gradienteB1 = np.mean((yEstimado - Y.to_numpy())*X)\n",
    "    b0 = b0 - learning_rate*gradienteB0\n",
    "    b1 = b1 - learning_rate*gradienteB1\n",
    "    \n",
    "    if((i % imprimir_error_cada) == 0):\n",
    "        errores.append(np.mean((yEstimado - Y.to_numpy())**2)*1/2)\n",
    "        \n",
    "\n",
    "    \n",
    "print(\"Beta0: \", b0)\n",
    "print(\"Beta1: \", b1)\n"
   ]
  },
  {
   "cell_type": "code",
   "execution_count": 24,
   "metadata": {},
   "outputs": [
    {
     "data": {
      "text/plain": [
       "[19389260391.256824,\n",
       " 7.790688252949708e+73,\n",
       " 3.881783968054018e+137,\n",
       " 1.9341355070825868e+201,\n",
       " 9.637012751209224e+264]"
      ]
     },
     "execution_count": 24,
     "metadata": {},
     "output_type": "execute_result"
    }
   ],
   "source": [
    "errores"
   ]
  },
  {
   "cell_type": "code",
   "execution_count": 59,
   "metadata": {},
   "outputs": [],
   "source": [
    "def modelo_entrenamiento(x,y,epoch,imprimir_error,learning_rate):\n",
    "    error = np.zeros(epoch)\n",
    "    ones = np.ones((x.shape[0],1))\n",
    "    data = np.hstack((x,ones))\n",
    "    modelo_dict = {}\n",
    "    modelo = np.array([0.0,0.0]) \n",
    "    gradientes = np.array([0.0,0.0])\n",
    "    print_counter = 1\n",
    "    for i in range(0,epochs):\n",
    "        yEstimado = (np.matmul(data,modelo)).reshape(-1,1)\n",
    "        error[i] = 0.5 * (np.average((y-yEstimado)**2))\n",
    "        gradientes = np.average((yEstimado-y)*data, axis=0)\n",
    "        modelo -= (learning_rate*gradientes)\n",
    "        modelo_dict[i] = model.copy()\n",
    "        if (print_counter % print_interval) == 0:\n",
    "            print(\"Error: \"+str(error[i]))\n",
    "        \n",
    "        print_counter += 1\n",
    "    return modelo_dict,error\n",
    "\n",
    "def plot_error(error,titulo):\n",
    "    plt.plot(range(0,error.shape[0]),error)\n",
    "    plt.title(titulo+\" - Errores\")\n",
    "    plt.show()\n",
    "    \n",
    "def plot_model(x,y,modelo, n):\n",
    "    ones = np.ones((x.shape[0],1))\n",
    "    data = np.hstack((x,ones))\n",
    "    \n",
    "    for i in range(n,len(modelo)+1,n):\n",
    "        key = i-1\n",
    "        yEstimado = (np.matmul(data,modelo[key])).reshape(-1,1)\n",
    "        \n",
    "        plt.plot()\n",
    "        plt.scatter(x,y)\n",
    "        plt.plot(x,yEstimado, color='g')\n",
    "        plt.title(\"Iteración=\"+str(i)+\", m=\"+str(round(modelo[key][0],2))+\", b=\"+str(round(modelo[key][1],2)))\n",
    "        plt.show()"
   ]
  },
  {
   "cell_type": "code",
   "execution_count": 70,
   "metadata": {},
   "outputs": [],
   "source": [
    "x = dtrain[:,1].reshape(-1,1)\n",
    "y = dtrain[:,0].reshape(-1,1)\n",
    "colname=[\"SalePrice\", \"OverallQual\", \"1stFlrSF\"]"
   ]
  },
  {
   "cell_type": "code",
   "execution_count": 75,
   "metadata": {},
   "outputs": [
    {
     "name": "stdout",
     "output_type": "stream",
     "text": [
      "Error: 1372.5833614180567\n",
      "Error: 1352.189866223243\n",
      "Error: 1333.6393271745892\n",
      "Error: 1316.7651966879648\n",
      "Error: 1301.4159780516316\n",
      "Error: 1287.4538652818671\n",
      "Error: 1274.7535058945716\n",
      "Error: 1263.200875484955\n",
      "Error: 1252.6922540112434\n",
      "Error: 1243.1332945914187\n"
     ]
    },
    {
     "data": {
      "image/png": "[encoded data removed]",
      "text/plain": [
       "<Figure size 432x288 with 1 Axes>"
      ]
     },
     "metadata": {
      "needs_background": "light"
     },
     "output_type": "display_data"
    },
    {
     "name": "stdout",
     "output_type": "stream",
     "text": [
      "Error: 1391.3872090431587\n",
      "Error: 1387.8486854348448\n",
      "Error: 1384.4505410124752\n",
      "Error: 1381.100324902047\n",
      "Error: 1377.7973606915277\n",
      "Error: 1374.5409819337456\n",
      "Error: 1371.3305315811922\n",
      "Error: 1368.165361853445\n",
      "Error: 1365.0448341064634\n",
      "Error: 1361.9683187037303\n"
     ]
    },
    {
     "data": {
      "image/png": "[encoded data removed]",
      "text/plain": [
       "<Figure size 432x288 with 1 Axes>"
      ]
     },
     "metadata": {
      "needs_background": "light"
     },
     "output_type": "display_data"
    },
    {
     "name": "stdout",
     "output_type": "stream",
     "text": [
      "Error: 5038.410635515049\n",
      "Error: 2125.07674736828\n",
      "Error: 1540.100749056788\n",
      "Error: 1422.344263720589\n",
      "Error: 1398.342860278944\n",
      "Error: 1393.155478464707\n",
      "Error: 1391.74410543436\n",
      "Error: 1391.091144305315\n",
      "Error: 1390.5910691364213\n",
      "Error: 1390.1223710346512\n"
     ]
    },
    {
     "data": {
      "image/png": "[encoded data removed]",
      "text/plain": [
       "<Figure size 432x288 with 1 Axes>"
      ]
     },
     "metadata": {
      "needs_background": "light"
     },
     "output_type": "display_data"
    }
   ],
   "source": [
    "model_quality, errors_quality = train_model(x,y,1000,100,0.01)\n",
    "plot_error(errors_quality,colname[1])\n",
    "\n",
    "model_quality, errors_quality = train_model(x,y,1500,150,0.001)\n",
    "plot_error(errors_quality,colname[1])\n",
    "\n",
    "model_quality, errors_quality = train_model(x,y,2000,200,0.0001)\n",
    "plot_error(errors_quality,colname[1])"
   ]
  },
  {
   "cell_type": "code",
   "execution_count": 82,
   "metadata": {},
   "outputs": [
    {
     "data": {
      "image/png": "[encoded data removed]",
      "text/plain": [
       "<Figure size 432x288 with 1 Axes>"
      ]
     },
     "metadata": {
      "needs_background": "light"
     },
     "output_type": "display_data"
    }
   ],
   "source": [
    "plot_model(x,y,model_quality,2000)"
   ]
  },
  {
   "cell_type": "code",
   "execution_count": 83,
   "metadata": {},
   "outputs": [
    {
     "ename": "NameError",
     "evalue": "name 'train_dataset' is not defined",
     "output_type": "error",
     "traceback": [
      "\u001b[1;31m---------------------------------------------------------------------------\u001b[0m",
      "\u001b[1;31mNameError\u001b[0m                                 Traceback (most recent call last)",
      "Input \u001b[1;32mIn [83]\u001b[0m, in \u001b[0;36m<cell line: 1>\u001b[1;34m()\u001b[0m\n\u001b[1;32m----> 1\u001b[0m x \u001b[38;5;241m=\u001b[39m \u001b[43mtrain_dataset\u001b[49m[:,\u001b[38;5;241m2\u001b[39m]\u001b[38;5;241m.\u001b[39mreshape(\u001b[38;5;241m-\u001b[39m\u001b[38;5;241m1\u001b[39m,\u001b[38;5;241m1\u001b[39m)\n\u001b[0;32m      2\u001b[0m y \u001b[38;5;241m=\u001b[39m train_dataset[:,\u001b[38;5;241m0\u001b[39m]\u001b[38;5;241m.\u001b[39mreshape(\u001b[38;5;241m-\u001b[39m\u001b[38;5;241m1\u001b[39m,\u001b[38;5;241m1\u001b[39m)\n\u001b[0;32m      4\u001b[0m model_1flrsf, errors_1flrsf \u001b[38;5;241m=\u001b[39m train_model(x,y,\u001b[38;5;241m10000\u001b[39m,\u001b[38;5;241m1000\u001b[39m,\u001b[38;5;241m0.83\u001b[39m)\n",
      "\u001b[1;31mNameError\u001b[0m: name 'train_dataset' is not defined"
     ]
    }
   ],
   "source": [
    "x = train_dataset[:,2].reshape(-1,1)\n",
    "y = train_dataset[:,0].reshape(-1,1)\n",
    "\n",
    "model_1flrsf, errors_1flrsf = train_model(x,y,10000,1000,0.83)\n",
    "plot_error(errors_1flrsf,variables[2])\n",
    "\n",
    "model_1flrsf, errors_1flrsf = train_model(x,y,10000,1000,0.0001)\n",
    "plot_error(errors_1flrsf,variables[2])\n",
    "\n",
    "model_1flrsf, errors_1flrsf = train_model(x,y,10000,1000,0.82)\n",
    "plot_error(errors_1flrsf,variables[2])"
   ]
  }
 ],
 "metadata": {
  "kernelspec": {
   "display_name": "Python 3 (ipykernel)",
   "language": "python",
   "name": "python3"
  },
  "language_info": {
   "codemirror_mode": {
    "name": "ipython",
    "version": 3
   },
   "file_extension": ".py",
   "mimetype": "text/x-python",
   "name": "python",
   "nbconvert_exporter": "python",
   "pygments_lexer": "ipython3",
   "version": "3.9.12"
  }
 },
 "nbformat": 4,
 "nbformat_minor": 4
}
